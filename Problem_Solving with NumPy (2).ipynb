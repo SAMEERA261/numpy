{
 "cells": [
  {
   "cell_type": "markdown",
   "id": "60fa479e",
   "metadata": {},
   "source": [
    "# Problem-Solving with NumPy\n"
   ]
  },
  {
   "cell_type": "markdown",
   "id": "effc4d0c",
   "metadata": {},
   "source": [
    "1. Write a function, foo_1, that takes a NumPy array `arr` and returns the indices of the elements that are closest to a given target. If target is not in the given array, it should return ‘no item found’"
   ]
  },
  {
   "cell_type": "code",
   "execution_count": 18,
   "id": "4a5d1748",
   "metadata": {},
   "outputs": [],
   "source": [
    "import numpy as np\n",
    "\n",
    "def foo_1(arr, target):\n",
    "    if target not in arr: \n",
    "        return 'no item found'\n",
    "    indices = [i for i in range(len(arr)) if arr[i] == target]\n",
    "    return indices\n",
    "#my_element with [i for i in range(len(my_list)) if my_list[i] == my_element] "
   ]
  },
  {
   "cell_type": "markdown",
   "id": "d39249e1",
   "metadata": {},
   "source": [
    "* In the context of the foo_1 function, the 'target' is the value you want to find in the given NumPy array arr. The function is designed to return the indices of elements in the array that are closest to this target value.\n",
    "* Target/Mean Encoding for Categorical Attributes ,Machine Learning ,Python. Mean encoding, also known as target encoding, is a technique used to encode categorical attributes in machine learning models using python. It involves replacing each category with the mean target value of the corresponding target variable.\n",
    "* in the above code the target is used to find the indices of the elements given in the list to the near values of the targets ."
   ]
  },
  {
   "cell_type": "code",
   "execution_count": 19,
   "id": "3e2ded3e",
   "metadata": {},
   "outputs": [
    {
     "data": {
      "text/plain": [
       "[2, 3, 4, 5, 6, 8]"
      ]
     },
     "execution_count": 19,
     "metadata": {},
     "output_type": "execute_result"
    }
   ],
   "source": [
    "arr = np.array([3,8,7,7,7,7,7,8,7,10])\n",
    "target = 7\n",
    "foo_1(arr, target)"
   ]
  },
  {
   "cell_type": "code",
   "execution_count": 20,
   "id": "acb19700",
   "metadata": {},
   "outputs": [
    {
     "data": {
      "text/plain": [
       "'no item found'"
      ]
     },
     "execution_count": 20,
     "metadata": {},
     "output_type": "execute_result"
    }
   ],
   "source": [
    "arr = np.array([3,8,7,7,7,7,7,8,7,10])\n",
    "target = 11\n",
    "foo_1(arr, target)"
   ]
  },
  {
   "cell_type": "markdown",
   "id": "d8cc0767",
   "metadata": {},
   "source": [
    "## test case_if we use 2d array"
   ]
  },
  {
   "cell_type": "code",
   "execution_count": 32,
   "id": "59653806",
   "metadata": {},
   "outputs": [],
   "source": [
    "x=np.random.randint(1,7,(3,4))"
   ]
  },
  {
   "cell_type": "code",
   "execution_count": 33,
   "id": "b84f8ae0",
   "metadata": {},
   "outputs": [
    {
     "data": {
      "text/plain": [
       "array([[4, 2, 4, 5],\n",
       "       [2, 2, 3, 6],\n",
       "       [1, 1, 1, 1]])"
      ]
     },
     "execution_count": 33,
     "metadata": {},
     "output_type": "execute_result"
    }
   ],
   "source": [
    "x\n"
   ]
  },
  {
   "cell_type": "code",
   "execution_count": 37,
   "id": "919e0c23",
   "metadata": {},
   "outputs": [
    {
     "data": {
      "text/plain": [
       "'no item found'"
      ]
     },
     "execution_count": 37,
     "metadata": {},
     "output_type": "execute_result"
    }
   ],
   "source": [
    "target =2\n",
    "foo_1(arr, target)"
   ]
  },
  {
   "cell_type": "markdown",
   "id": "95050520",
   "metadata": {},
   "source": [
    "##### i think its not working with 2 dimenional array"
   ]
  },
  {
   "cell_type": "markdown",
   "id": "a40622ed",
   "metadata": {},
   "source": [
    "##  test case_if we use strings in between"
   ]
  },
  {
   "cell_type": "code",
   "execution_count": 45,
   "id": "5db06c9d",
   "metadata": {},
   "outputs": [
    {
     "data": {
      "text/plain": [
       "array(['3', '8', 'saniya', '7', '7', '7', '7', '8', '7', 'sameera'],\n",
       "      dtype='<U11')"
      ]
     },
     "execution_count": 45,
     "metadata": {},
     "output_type": "execute_result"
    }
   ],
   "source": [
    "arr=np.array([3,8,'saniya',7,7,7,7,8,7,'sameera'])\n",
    "arr\n"
   ]
  },
  {
   "cell_type": "code",
   "execution_count": 47,
   "id": "069c0e79",
   "metadata": {},
   "outputs": [
    {
     "name": "stderr",
     "output_type": "stream",
     "text": [
      "C:\\Users\\Sam\\AppData\\Local\\Temp\\ipykernel_5552\\495981005.py:4: FutureWarning: elementwise comparison failed; returning scalar instead, but in the future will perform elementwise comparison\n",
      "  if target not in arr:\n"
     ]
    },
    {
     "data": {
      "text/plain": [
       "'no item found'"
      ]
     },
     "execution_count": 47,
     "metadata": {},
     "output_type": "execute_result"
    }
   ],
   "source": [
    "target = 7\n",
    "foo_1(arr, target)"
   ]
  },
  {
   "cell_type": "markdown",
   "id": "c7631c2c",
   "metadata": {},
   "source": [
    "##### its showing a warning if we use strings in between the array and its not giving output too"
   ]
  },
  {
   "cell_type": "markdown",
   "id": "ca0eed23",
   "metadata": {},
   "source": [
    "2. Write a user defined function foo_2 that takes a 1 or 2 dim NumPy array arr and returns a new n-1 dim array, where each element is replaced by the count of non-zero elements wrt axis.\n",
    "\n"
   ]
  },
  {
   "cell_type": "code",
   "execution_count": 123,
   "id": "323e0676",
   "metadata": {},
   "outputs": [],
   "source": [
    "def foo_2(arr, axis):\n",
    "    if arr.ndim != 2:\n",
    "        print(\"Input array must be 2-dimensional.\")\n",
    "    else:\n",
    "        x=np.where(arr != 0, 1, 0)\n",
    "        counts=np.sum(x,axis=axis)\n",
    "        return counts\n",
    "\n",
    "def foo_3(arr, axis):\n",
    "    if arr.ndim != 3:\n",
    "        print(\"Input array must be 3-dimensional.\")\n",
    "    else:\n",
    "        x=np.where(arr != 0, 1, 0)\n",
    "        counts=np.sum(x,axis=axis)\n",
    "        return counts\n"
   ]
  },
  {
   "cell_type": "code",
   "execution_count": 124,
   "id": "6bbaf512",
   "metadata": {},
   "outputs": [
    {
     "data": {
      "text/plain": [
       "array([4, 1, 2])"
      ]
     },
     "execution_count": 124,
     "metadata": {},
     "output_type": "execute_result"
    }
   ],
   "source": [
    "arr = np.array([[1, 2, 3, 4],\n",
    "                [0, 5, 0, 0],\n",
    "                [2, 0, 1, 0]])\n",
    "foo_2(arr, axis = 1)"
   ]
  },
  {
   "cell_type": "code",
   "execution_count": 125,
   "id": "d0372200",
   "metadata": {},
   "outputs": [
    {
     "data": {
      "text/plain": [
       "array([2, 2, 2, 1])"
      ]
     },
     "execution_count": 125,
     "metadata": {},
     "output_type": "execute_result"
    }
   ],
   "source": [
    "foo_2(arr, axis = 0)"
   ]
  },
  {
   "cell_type": "code",
   "execution_count": 127,
   "id": "2b7c695a",
   "metadata": {},
   "outputs": [],
   "source": [
    "arr1 = np.array([[[1, 2, 3, 4], [0, 5, 0, 0], [2, 0, 1, 0]],\n",
    "                 [[2, 0, 1, 0], [0, 5, 0, 0], [1, 2, 3, 4]]])\n"
   ]
  },
  {
   "cell_type": "code",
   "execution_count": 128,
   "id": "1e44e333",
   "metadata": {},
   "outputs": [
    {
     "data": {
      "text/plain": [
       "array([[2, 1, 2, 1],\n",
       "       [0, 2, 0, 0],\n",
       "       [2, 1, 2, 1]])"
      ]
     },
     "execution_count": 128,
     "metadata": {},
     "output_type": "execute_result"
    }
   ],
   "source": [
    "foo_3(arr1,axis=0)"
   ]
  },
  {
   "cell_type": "code",
   "execution_count": 129,
   "id": "12f057c5",
   "metadata": {},
   "outputs": [
    {
     "name": "stdout",
     "output_type": "stream",
     "text": [
      "Input array must be 2-dimensional.\n"
     ]
    }
   ],
   "source": [
    "foo_2(arr1 , axis = 1)"
   ]
  },
  {
   "cell_type": "code",
   "execution_count": 130,
   "id": "c2d0d025",
   "metadata": {},
   "outputs": [
    {
     "name": "stdout",
     "output_type": "stream",
     "text": [
      "Input array must be 2-dimensional.\n"
     ]
    }
   ],
   "source": [
    "foo_2(arr1 , axis = 1)"
   ]
  },
  {
   "cell_type": "code",
   "execution_count": 131,
   "id": "a38d0853",
   "metadata": {},
   "outputs": [
    {
     "name": "stdout",
     "output_type": "stream",
     "text": [
      "Input array must be 2-dimensional.\n"
     ]
    }
   ],
   "source": [
    "foo_2(arr1 , axis = 2)"
   ]
  },
  {
   "cell_type": "markdown",
   "id": "34161a5f",
   "metadata": {},
   "source": [
    "3. You are given a 2D NumPy array of data representing student scores. Each row represents a student, and each column represents a subject. Extract the scores of all students who scored above 90 in at least one subject. Provide the resulting array."
   ]
  },
  {
   "cell_type": "code",
   "execution_count": 132,
   "id": "84346c70",
   "metadata": {},
   "outputs": [
    {
     "name": "stdout",
     "output_type": "stream",
     "text": [
      "score of students who secured greater than 90:\n",
      "(array([1, 2, 3], dtype=int64), array([2, 0, 1], dtype=int64))\n",
      "\n",
      "Scores of students who scored above 90 in at least one subject:\n",
      "[[78 89 94]\n",
      " [91 87 90]\n",
      " [87 95 84]]\n"
     ]
    }
   ],
   "source": [
    "data = np.array([[85, 89, 88], [78, 89, 94], [91, 87, 90], [87, 95, 84]])\n",
    "indices = np.where(data > 90)\n",
    "print(\"score of students who secured greater than 90:\")\n",
    "print(indices)\n",
    "unique_row_indices = np.unique(indices[0])\n",
    "result = data[unique_row_indices, :]\n",
    "print(\"\\nScores of students who scored above 90 in at least one subject:\")\n",
    "print(result)"
   ]
  },
  {
   "cell_type": "markdown",
   "id": "d4740f59",
   "metadata": {},
   "source": [
    "4. You are provided with a 2D NumPy array of data representing sales data for different products. Each row corresponds to a product, and each column represents the monthly sales for a specific month. Calculate the following statistics for each product: mean, median, standard deviation, and the month with the highest sales\n"
   ]
  },
  {
   "cell_type": "code",
   "execution_count": 133,
   "id": "39301517",
   "metadata": {},
   "outputs": [],
   "source": [
    "data=np.array([[120,150,130,110],\n",
    "              [200,180,220,250],\n",
    "              [90,100,95,110],\n",
    "              [300,280,320,340]])"
   ]
  },
  {
   "cell_type": "code",
   "execution_count": 134,
   "id": "f3ebbceb",
   "metadata": {},
   "outputs": [
    {
     "name": "stdout",
     "output_type": "stream",
     "text": [
      "Product 1:\n",
      "  Mean: 127.50\n",
      "  Median: 125.00\n",
      "  Standard Deviation: 14.79\n",
      "  Month with the Highest Sales: Month 2\n",
      "\n",
      "\n",
      "Product 2:\n",
      "  Mean: 212.50\n",
      "  Median: 210.00\n",
      "  Standard Deviation: 25.86\n",
      "  Month with the Highest Sales: Month 4\n",
      "\n",
      "\n",
      "Product 3:\n",
      "  Mean: 98.75\n",
      "  Median: 97.50\n",
      "  Standard Deviation: 7.40\n",
      "  Month with the Highest Sales: Month 4\n",
      "\n",
      "\n",
      "Product 4:\n",
      "  Mean: 310.00\n",
      "  Median: 310.00\n",
      "  Standard Deviation: 22.36\n",
      "  Month with the Highest Sales: Month 4\n",
      "\n",
      "\n"
     ]
    }
   ],
   "source": [
    "meanofproduct = np.mean(data, axis=1)\n",
    "medianofproduct = np.median(data, axis=1)\n",
    "sdofproduct = np.std(data, axis=1)\n",
    "max_month_per_product = np.argmax(data, axis=1)\n",
    "for i in range(len(data)):\n",
    "    print(f\"Product {i + 1}:\")\n",
    "    print(f\"  Mean: {meanofproduct[i]:.2f}\")\n",
    "    print(f\"  Median: {medianofproduct[i]:.2f}\")\n",
    "    print(f\"  Standard Deviation: {sdofproduct[i]:.2f}\")\n",
    "    print(f\"  Month with the Highest Sales: Month {max_month_per_product[i] + 1}\")\n",
    "    print(\"\\n\")\n",
    "#this is the best part of arrays it will perform element wise operations"
   ]
  },
  {
   "cell_type": "markdown",
   "id": "1b13b057",
   "metadata": {},
   "source": [
    "\n",
    "5. Create a NumPy array of size 1000 with random integers between 1 and 100. Then, use NumPy functions to find the top 10 most frequently occurring values in the array.\n"
   ]
  },
  {
   "cell_type": "code",
   "execution_count": 135,
   "id": "debc4716",
   "metadata": {},
   "outputs": [],
   "source": [
    "z=np.random.randint(1,100,1000)"
   ]
  },
  {
   "cell_type": "code",
   "execution_count": 136,
   "id": "9e0c9862",
   "metadata": {},
   "outputs": [
    {
     "data": {
      "text/plain": [
       "array([56, 12, 67, 41, 71, 57,  6, 51, 62, 46, 73, 86, 85, 87,  1, 11,  6,\n",
       "       37, 51,  7, 35, 81, 67, 54, 27, 89, 66, 61,  5, 62, 45, 36, 66, 74,\n",
       "       41,  5, 93, 76, 65, 89, 57, 99, 77, 51, 17, 36, 48, 38, 36, 45, 14,\n",
       "       96, 31, 44,  3, 95, 10, 75, 53, 66, 25, 68, 38, 17, 55, 48,  1, 44,\n",
       "        9, 22, 97, 12, 62, 13, 34,  1, 37, 49, 76, 19, 67, 74, 98, 75, 93,\n",
       "       45, 74, 62,  2, 86, 81, 97, 15, 67, 69, 18,  2,  1, 29, 23, 73, 46,\n",
       "       96, 65, 84, 43, 68, 48, 63, 22, 98, 38, 23, 13, 92, 60, 60, 63, 81,\n",
       "       31, 20, 38,  2, 73, 70, 70,  1, 81, 87, 73, 16, 51, 48, 39, 44, 78,\n",
       "       66, 14, 57,  1, 10,  4, 56, 62, 96, 72, 27, 73, 20, 83, 80, 75, 89,\n",
       "       29, 53, 79, 82,  8, 95, 57, 41, 91,  2, 38, 63, 14, 37, 95, 25, 80,\n",
       "       29, 29, 76,  7, 39, 41, 17, 18, 79, 13, 92, 61, 87, 30, 17, 61, 93,\n",
       "       68, 91, 61, 15, 31,  7, 21, 83,  7, 68, 97, 57, 92,  6, 36,  6, 35,\n",
       "       77, 98, 37, 95, 81, 62, 84, 53,  5,  7, 94, 67, 82, 72, 98, 43, 43,\n",
       "       25, 56, 28, 92, 37, 37, 39, 11, 28, 59, 11,  6,  1, 92, 73, 67, 36,\n",
       "       46, 85,  4, 80, 64, 70,  4, 69, 56, 97, 79, 67, 84, 72, 62, 18, 43,\n",
       "       68, 71, 20, 75, 91, 79, 88, 39, 30, 63, 17, 67, 39, 56,  5, 36, 65,\n",
       "       28, 95, 81, 22, 45,  6, 68, 46,  9, 80,  1, 59, 33, 58, 51, 77,  1,\n",
       "       58, 13, 15, 96, 48, 38, 98, 88, 56, 97, 37, 25, 68,  9, 27, 81, 33,\n",
       "       81, 11, 73, 10, 57, 30, 91, 52, 13, 82, 22, 49, 60, 32, 52, 79, 69,\n",
       "       42, 76, 49, 35, 72, 96, 33, 27, 14, 39, 88, 42, 30, 69, 19, 13, 44,\n",
       "       75, 64, 95, 79, 41, 21, 66, 59, 10, 69, 38, 67, 73, 49, 11, 93, 79,\n",
       "       47, 80, 20, 36, 21, 71, 61, 40, 23, 44, 54, 31, 65, 93, 14, 27, 84,\n",
       "       74, 67, 28, 60, 79, 31, 20, 98,  6, 63, 74, 53, 26, 16, 25, 92,  4,\n",
       "       23, 79, 34, 27, 97, 21, 56, 61, 89, 83, 96, 77, 44, 86, 67, 31, 83,\n",
       "       42, 23, 76, 74, 76, 56, 19, 18, 96, 75, 85,  3, 66, 60, 82,  7, 94,\n",
       "       42,  4,  9, 88, 35, 84,  3, 16, 38, 75,  2, 45, 85, 82, 34, 42, 98,\n",
       "       44, 62, 12, 59, 17, 54, 52, 87, 22, 91,  8, 56, 52, 71, 77, 86, 83,\n",
       "        1, 18, 72, 79, 16, 95, 51, 93, 67, 89, 75, 32, 55, 96, 51, 17, 33,\n",
       "       31, 18, 79, 73, 31, 86,  3, 58, 18, 96, 97, 71,  3, 90, 52, 27, 73,\n",
       "       49, 86, 31, 93, 45, 21, 40, 45, 12, 45, 86, 99, 16, 25, 94, 26, 96,\n",
       "       36, 22,  6, 61,  5, 38,  2, 60, 76, 39, 25, 81, 43, 18, 33, 48, 57,\n",
       "       79, 85, 76, 43, 78, 10, 10,  2, 46, 24, 41, 84, 38, 40, 55, 73, 30,\n",
       "       43, 80, 65, 13, 36, 41, 60, 83, 57, 37, 40, 56, 37, 59, 91, 85, 46,\n",
       "       75,  7, 23, 44, 89, 12, 56, 16,  9, 86, 97,  2, 13, 68, 67, 19, 52,\n",
       "       42, 67, 20, 37, 93, 73, 59, 65, 46, 95, 69, 91, 55, 73, 74,  5, 94,\n",
       "        6, 27, 78, 98, 16, 12, 31, 32, 55, 69, 69, 47, 62, 88, 14, 53, 99,\n",
       "       92, 19, 61, 31, 49, 88, 11, 70, 70, 16, 46, 95, 46, 50,  6, 82, 55,\n",
       "       73, 87, 65, 18, 24, 32, 85, 12, 19, 68, 43, 84, 17, 93, 81, 65, 62,\n",
       "       26, 24, 77, 20, 80,  2, 95, 66, 24, 33, 61, 21, 76,  1, 57,  9, 66,\n",
       "       45, 69, 57, 79, 10, 64, 22, 17, 10, 42, 11, 59, 40, 90, 71, 46, 38,\n",
       "       26, 65, 81, 82, 33, 20, 27, 96, 94, 40, 39, 30,  7,  3, 17, 22, 66,\n",
       "       92, 29, 71,  1,  5, 98, 65, 43, 62, 32, 89, 28, 29, 41,  5, 47, 59,\n",
       "       30, 37,  2, 22,  7, 27, 79, 32, 53, 59, 54, 64, 74, 81, 61, 57, 72,\n",
       "       94, 56, 16, 14, 46, 47,  2, 11, 37, 44, 20, 85, 17, 78, 92, 54, 70,\n",
       "       42, 37, 82, 32, 81, 39, 96, 17, 41, 80, 84, 28, 49, 46, 35, 59, 45,\n",
       "       32, 14, 58, 72, 62, 18, 49, 91, 39, 87, 52, 88, 25, 49, 52, 68, 53,\n",
       "       68, 76,  7, 39,  2, 40, 22,  6, 96, 48, 90, 51, 94, 33, 75, 21, 68,\n",
       "       73, 59, 72, 35, 98, 26, 95, 93, 42, 98,  1, 62, 52, 14, 42, 40, 30,\n",
       "       55, 25, 22, 63, 11, 37, 97, 12, 22, 22, 76, 77, 42, 74, 49, 69, 50,\n",
       "       51,  8, 75, 11,  5, 81, 25, 57, 34, 65, 62, 58, 41,  2, 55, 73, 38,\n",
       "       44, 56, 56, 72, 47, 51,  1, 66, 11, 11, 24, 40, 92, 43, 92, 14, 23,\n",
       "       32, 78, 13, 57, 87, 76, 92, 65, 36, 46, 43, 50, 43, 96, 48, 59,  8,\n",
       "       66,  6, 44, 20, 59, 40,  8,  9, 82, 13, 22, 50, 37, 74, 20, 90, 22,\n",
       "       33, 66,  8, 64, 86, 87, 54, 36, 97, 45, 50, 56, 30, 51, 17, 94, 98,\n",
       "        2, 49, 78, 23,  7, 39,  9,  9, 88, 76, 16, 23, 83, 82, 96, 76, 83,\n",
       "       71, 12, 65, 51, 78,  4, 40, 64, 11, 69, 87, 53,  6,  3,  4, 58, 57,\n",
       "       17, 17, 75, 22, 39, 27, 17,  7, 35, 26, 37, 48, 10,  9, 91,  3, 50,\n",
       "        5, 47, 42, 67, 87,  5,  3, 97, 99, 78, 69, 17, 49, 83, 35, 79, 64,\n",
       "       46, 16, 26, 52, 87,  6, 80,  2, 15, 11,  8, 79, 21, 65])"
      ]
     },
     "execution_count": 136,
     "metadata": {},
     "output_type": "execute_result"
    }
   ],
   "source": [
    "z"
   ]
  },
  {
   "cell_type": "code",
   "execution_count": 137,
   "id": "3a8f9078",
   "metadata": {},
   "outputs": [
    {
     "name": "stdout",
     "output_type": "stream",
     "text": [
      "Top 10 most frequently occurring values:\n",
      "Value: 17, Count: 17\n",
      "Value: 79, Count: 16\n",
      "Value: 73, Count: 16\n",
      "Value: 22, Count: 16\n",
      "Value: 37, Count: 16\n",
      "Value: 96, Count: 15\n",
      "Value: 2, Count: 15\n",
      "Value: 56, Count: 15\n",
      "Value: 67, Count: 15\n",
      "Value: 81, Count: 14\n"
     ]
    }
   ],
   "source": [
    "counts = np.bincount(z)\n",
    "\n",
    "top_indices = np.argsort(-counts)[:10]\n",
    "\n",
    "print(\"Top 10 most frequently occurring values:\")\n",
    "for index in top_indices:\n",
    "    print(f\"Value: {index}, Count: {counts[index]}\")\n"
   ]
  },
  {
   "cell_type": "markdown",
   "id": "4baed46c",
   "metadata": {},
   "source": [
    "###### In this code, np.bincount(z) returns an array where the ith element represents the count of occurrences of the integer i in the array z"
   ]
  },
  {
   "cell_type": "markdown",
   "id": "a3df82d6",
   "metadata": {},
   "source": [
    "### numpy.bincount\n",
    "* numpy.bincount(x, /, weights=None, minlength=0)\n",
    "  Count number of occurrences of each value in array of non-negative ints.\n",
    "\n",
    "* The number of bins (of size 1) is one larger than the largest value in x. If minlength is specified, there will be at least this number of bins in the output array (though it will be longer if necessary, depending on the contents of x). Each bin gives the number of occurrences of its index value in x. If weights is specified the input array is weighted by it, i.e. if a value n is found at position i, out[n] += weight[i] instead of out[n] += 1."
   ]
  }
 ],
 "metadata": {
  "kernelspec": {
   "display_name": "Python 3 (ipykernel)",
   "language": "python",
   "name": "python3"
  },
  "language_info": {
   "codemirror_mode": {
    "name": "ipython",
    "version": 3
   },
   "file_extension": ".py",
   "mimetype": "text/x-python",
   "name": "python",
   "nbconvert_exporter": "python",
   "pygments_lexer": "ipython3",
   "version": "3.11.5"
  }
 },
 "nbformat": 4,
 "nbformat_minor": 5
}
