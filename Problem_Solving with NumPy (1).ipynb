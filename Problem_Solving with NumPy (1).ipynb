{
 "cells": [
  {
   "cell_type": "markdown",
   "id": "0be63e61",
   "metadata": {},
   "source": [
    "# Problem-Solving with NumPy\n"
   ]
  },
  {
   "cell_type": "markdown",
   "id": "253a97ae",
   "metadata": {},
   "source": [
    "1. Write a function, foo_1, that takes a NumPy array `arr` and returns the indices of the elements that are closest to a given target. If target is not in the given array, it should return ‘no item found’"
   ]
  },
  {
   "cell_type": "code",
   "execution_count": 18,
   "id": "d574777f",
   "metadata": {},
   "outputs": [],
   "source": [
    "import numpy as np\n",
    "\n",
    "def foo_1(arr, target):\n",
    "    if target not in arr: \n",
    "        return 'no item found'\n",
    "    indices = [i for i in range(len(arr)) if arr[i] == target]\n",
    "    return indices\n",
    "#my_element with [i for i in range(len(my_list)) if my_list[i] == my_element] "
   ]
  },
  {
   "cell_type": "markdown",
   "id": "4e64e429",
   "metadata": {},
   "source": [
    "* In the context of the foo_1 function, the 'target' is the value you want to find in the given NumPy array arr. The function is designed to return the indices of elements in the array that are closest to this target value.\n",
    "* Target/Mean Encoding for Categorical Attributes ,Machine Learning ,Python. Mean encoding, also known as target encoding, is a technique used to encode categorical attributes in machine learning models using python. It involves replacing each category with the mean target value of the corresponding target variable.\n",
    "* in the above code the target is used to find the indices of the elements given in the list to the near values of the targets ."
   ]
  },
  {
   "cell_type": "code",
   "execution_count": 19,
   "id": "1e7aa05f",
   "metadata": {},
   "outputs": [
    {
     "data": {
      "text/plain": [
       "[2, 3, 4, 5, 6, 8]"
      ]
     },
     "execution_count": 19,
     "metadata": {},
     "output_type": "execute_result"
    }
   ],
   "source": [
    "arr = np.array([3,8,7,7,7,7,7,8,7,10])\n",
    "target = 7\n",
    "foo_1(arr, target)"
   ]
  },
  {
   "cell_type": "code",
   "execution_count": 20,
   "id": "0770b866",
   "metadata": {},
   "outputs": [
    {
     "data": {
      "text/plain": [
       "'no item found'"
      ]
     },
     "execution_count": 20,
     "metadata": {},
     "output_type": "execute_result"
    }
   ],
   "source": [
    "arr = np.array([3,8,7,7,7,7,7,8,7,10])\n",
    "target = 11\n",
    "foo_1(arr, target)"
   ]
  },
  {
   "cell_type": "markdown",
   "id": "0f9c66c6",
   "metadata": {},
   "source": [
    "## test case_if we use 2d array"
   ]
  },
  {
   "cell_type": "code",
   "execution_count": 32,
   "id": "0e55f036",
   "metadata": {},
   "outputs": [],
   "source": [
    "x=np.random.randint(1,7,(3,4))"
   ]
  },
  {
   "cell_type": "code",
   "execution_count": 33,
   "id": "53c0f84e",
   "metadata": {},
   "outputs": [
    {
     "data": {
      "text/plain": [
       "array([[4, 2, 4, 5],\n",
       "       [2, 2, 3, 6],\n",
       "       [1, 1, 1, 1]])"
      ]
     },
     "execution_count": 33,
     "metadata": {},
     "output_type": "execute_result"
    }
   ],
   "source": [
    "x\n"
   ]
  },
  {
   "cell_type": "code",
   "execution_count": 37,
   "id": "359c5d1c",
   "metadata": {},
   "outputs": [
    {
     "data": {
      "text/plain": [
       "'no item found'"
      ]
     },
     "execution_count": 37,
     "metadata": {},
     "output_type": "execute_result"
    }
   ],
   "source": [
    "target =2\n",
    "foo_1(arr, target)"
   ]
  },
  {
   "cell_type": "markdown",
   "id": "82725093",
   "metadata": {},
   "source": [
    "##### i think its not working with 2 dimenional array"
   ]
  },
  {
   "cell_type": "markdown",
   "id": "a6aad2fc",
   "metadata": {},
   "source": [
    "##  test case_if we use strings in between"
   ]
  },
  {
   "cell_type": "code",
   "execution_count": 45,
   "id": "2fd5f1a8",
   "metadata": {},
   "outputs": [
    {
     "data": {
      "text/plain": [
       "array(['3', '8', 'saniya', '7', '7', '7', '7', '8', '7', 'sameera'],\n",
       "      dtype='<U11')"
      ]
     },
     "execution_count": 45,
     "metadata": {},
     "output_type": "execute_result"
    }
   ],
   "source": [
    "arr=np.array([3,8,'saniya',7,7,7,7,8,7,'sameera'])\n",
    "arr\n"
   ]
  },
  {
   "cell_type": "code",
   "execution_count": 47,
   "id": "ac45728d",
   "metadata": {},
   "outputs": [
    {
     "name": "stderr",
     "output_type": "stream",
     "text": [
      "C:\\Users\\Sam\\AppData\\Local\\Temp\\ipykernel_5552\\495981005.py:4: FutureWarning: elementwise comparison failed; returning scalar instead, but in the future will perform elementwise comparison\n",
      "  if target not in arr:\n"
     ]
    },
    {
     "data": {
      "text/plain": [
       "'no item found'"
      ]
     },
     "execution_count": 47,
     "metadata": {},
     "output_type": "execute_result"
    }
   ],
   "source": [
    "target = 7\n",
    "foo_1(arr, target)"
   ]
  },
  {
   "cell_type": "markdown",
   "id": "ae8320d8",
   "metadata": {},
   "source": [
    "##### its showing a warning if we use strings in between the array and its not giving output too"
   ]
  },
  {
   "cell_type": "markdown",
   "id": "ac92fe7c",
   "metadata": {},
   "source": [
    "2. Write a user defined function foo_2 that takes a 1 or 2 dim NumPy array arr and returns a new n-1 dim array, where each element is replaced by the count of non-zero elements wrt axis.\n",
    "\n"
   ]
  },
  {
   "cell_type": "code",
   "execution_count": 84,
   "id": "f8186cc3",
   "metadata": {},
   "outputs": [],
   "source": [
    "import numpy as np\n",
    "\n",
    "def foo_2(arr, axis=None):\n",
    "    if arr.ndim == 1:\n",
    "        return np.count_nonzero(arr)\n",
    "    elif arr.ndim == 2:\n",
    "        return np.sum(np.where(arr != 0, 1, 0), axis=axis)\n",
    "    elif arr.ndim == 3:\n",
    "        return np.sum(np.where(arr != 0, 1, 0), axis=axis)\n",
    "    else:\n",
    "        return 'Unsupported dimension'"
   ]
  },
  {
   "cell_type": "code",
   "execution_count": 100,
   "id": "88627e7d",
   "metadata": {},
   "outputs": [
    {
     "data": {
      "text/plain": [
       "array([4, 1, 2], dtype=int64)"
      ]
     },
     "execution_count": 100,
     "metadata": {},
     "output_type": "execute_result"
    }
   ],
   "source": [
    "arr = np.array([[1, 2, 3, 4],\n",
    "                [0, 5, 0, 0],\n",
    "                [2, 0, 1, 0]])\n",
    "foo_2(arr, axis = 1)"
   ]
  },
  {
   "cell_type": "code",
   "execution_count": 101,
   "id": "d00e2701",
   "metadata": {},
   "outputs": [
    {
     "data": {
      "text/plain": [
       "array([2, 2, 2, 1], dtype=int64)"
      ]
     },
     "execution_count": 101,
     "metadata": {},
     "output_type": "execute_result"
    }
   ],
   "source": [
    "foo_2(arr, axis = 0)"
   ]
  },
  {
   "cell_type": "code",
   "execution_count": 117,
   "id": "957783e0",
   "metadata": {},
   "outputs": [],
   "source": [
    "#arr1 = np.array([[1, 2, 3, 4],\n",
    "               # [0, 5, 0, 0],\n",
    "                #[2, 0, 1, 0]],\n",
    "#\n",
    " #               [[2, 0, 1, 0],\n",
    "  #               [0, 5, 0, 0],\n",
    "   #              [1, 2, 3, 4]])\n",
    "\n",
    "\n",
    "#foo_2(arr1 , axis = 0)\n"
   ]
  },
  {
   "cell_type": "code",
   "execution_count": 103,
   "id": "4c57bb9e",
   "metadata": {},
   "outputs": [
    {
     "data": {
      "text/plain": [
       "array([[2, 2, 2, 1],\n",
       "       [2, 2, 2, 1]], dtype=int64)"
      ]
     },
     "execution_count": 103,
     "metadata": {},
     "output_type": "execute_result"
    }
   ],
   "source": [
    "foo_2(arr1 , axis = 1)"
   ]
  },
  {
   "cell_type": "code",
   "execution_count": 112,
   "id": "ea2640e3",
   "metadata": {},
   "outputs": [
    {
     "data": {
      "text/plain": [
       "array([[2, 2, 2, 1],\n",
       "       [2, 2, 2, 1]], dtype=int64)"
      ]
     },
     "execution_count": 112,
     "metadata": {},
     "output_type": "execute_result"
    }
   ],
   "source": [
    "foo_2(arr1 , axis = 1)"
   ]
  },
  {
   "cell_type": "code",
   "execution_count": 114,
   "id": "9bb9bdcc",
   "metadata": {},
   "outputs": [
    {
     "data": {
      "text/plain": [
       "array([[4, 1, 2],\n",
       "       [2, 1, 4]], dtype=int64)"
      ]
     },
     "execution_count": 114,
     "metadata": {},
     "output_type": "execute_result"
    }
   ],
   "source": [
    "foo_2(arr1 , axis = 2)"
   ]
  },
  {
   "cell_type": "markdown",
   "id": "b877caf3",
   "metadata": {},
   "source": [
    "3. You are given a 2D NumPy array of data representing student scores. Each row represents a student, and each column represents a subject. Extract the scores of all students who scored above 90 in at least one subject. Provide the resulting array."
   ]
  },
  {
   "cell_type": "code",
   "execution_count": 80,
   "id": "dc8d0805",
   "metadata": {},
   "outputs": [
    {
     "name": "stdout",
     "output_type": "stream",
     "text": [
      "score of students who secured greater than 90:\n",
      "(array([1, 2, 3], dtype=int64), array([2, 0, 1], dtype=int64))\n",
      "\n",
      "Scores of students who scored above 90 in at least one subject:\n",
      "[[78 89 94]\n",
      " [91 87 90]\n",
      " [87 95 84]]\n"
     ]
    }
   ],
   "source": [
    "data = np.array([[85, 89, 88], [78, 89, 94], [91, 87, 90], [87, 95, 84]])\n",
    "indices = np.where(data > 90)\n",
    "print(\"score of students who secured greater than 90:\")\n",
    "print(indices)\n",
    "unique_row_indices = np.unique(indices[0])\n",
    "result = data[unique_row_indices, :]\n",
    "print(\"\\nScores of students who scored above 90 in at least one subject:\")\n",
    "print(result)"
   ]
  },
  {
   "cell_type": "markdown",
   "id": "53ceddbf",
   "metadata": {},
   "source": [
    "4. You are provided with a 2D NumPy array of data representing sales data for different products. Each row corresponds to a product, and each column represents the monthly sales for a specific month. Calculate the following statistics for each product: mean, median, standard deviation, and the month with the highest sales\n"
   ]
  },
  {
   "cell_type": "code",
   "execution_count": 107,
   "id": "4a997e80",
   "metadata": {},
   "outputs": [],
   "source": [
    "data=np.array([[120,150,130,110],\n",
    "              [200,180,220,250],\n",
    "              [90,100,95,110],\n",
    "              [300,280,320,340]])"
   ]
  },
  {
   "cell_type": "code",
   "execution_count": 118,
   "id": "48c8d72b",
   "metadata": {},
   "outputs": [
    {
     "name": "stdout",
     "output_type": "stream",
     "text": [
      "Product 1:\n",
      "  Mean: 127.50\n",
      "  Median: 125.00\n",
      "  Standard Deviation: 14.79\n",
      "  Month with the Highest Sales: Month 2\n",
      "\n",
      "\n",
      "Product 2:\n",
      "  Mean: 212.50\n",
      "  Median: 210.00\n",
      "  Standard Deviation: 25.86\n",
      "  Month with the Highest Sales: Month 4\n",
      "\n",
      "\n",
      "Product 3:\n",
      "  Mean: 98.75\n",
      "  Median: 97.50\n",
      "  Standard Deviation: 7.40\n",
      "  Month with the Highest Sales: Month 4\n",
      "\n",
      "\n",
      "Product 4:\n",
      "  Mean: 310.00\n",
      "  Median: 310.00\n",
      "  Standard Deviation: 22.36\n",
      "  Month with the Highest Sales: Month 4\n",
      "\n",
      "\n"
     ]
    }
   ],
   "source": [
    "meanofproduct = np.mean(data, axis=1)\n",
    "medianofproduct = np.median(data, axis=1)\n",
    "sdofproduct = np.std(data, axis=1)\n",
    "max_month_per_product = np.argmax(data, axis=1)\n",
    "for i in range(len(data)):\n",
    "    print(f\"Product {i + 1}:\")\n",
    "    print(f\"  Mean: {meanofproduct[i]:.2f}\")\n",
    "    print(f\"  Median: {medianofproduct[i]:.2f}\")\n",
    "    print(f\"  Standard Deviation: {sdofproduct[i]:.2f}\")\n",
    "    print(f\"  Month with the Highest Sales: Month {max_month_per_product[i] + 1}\")\n",
    "    print(\"\\n\")\n",
    "#this is the best part of arrays it will perform element wise operations"
   ]
  },
  {
   "cell_type": "markdown",
   "id": "f0d83b01",
   "metadata": {},
   "source": [
    "\n",
    "5. Create a NumPy array of size 1000 with random integers between 1 and 100. Then, use NumPy functions to find the top 10 most frequently occurring values in the array.\n"
   ]
  },
  {
   "cell_type": "code",
   "execution_count": 119,
   "id": "b5afa2e1",
   "metadata": {},
   "outputs": [],
   "source": [
    "z=np.random.randint(1,100,1000)"
   ]
  },
  {
   "cell_type": "code",
   "execution_count": 120,
   "id": "e3ebf2cb",
   "metadata": {},
   "outputs": [
    {
     "data": {
      "text/plain": [
       "array([34, 54, 59, 83, 83, 23, 71, 71, 30, 97, 90, 66, 29, 13, 16, 96, 79,\n",
       "        6, 93, 19,  8, 75, 22, 76, 39, 42, 30, 14, 21, 95, 84, 48,  6, 99,\n",
       "       67,  1, 88, 56, 59, 34, 78, 93,  4, 23, 29, 43, 23, 23, 20, 55, 45,\n",
       "       30, 73, 78, 73, 37,  5,  4, 59, 26, 99, 51, 17, 15, 31, 57, 87, 53,\n",
       "       16, 33, 82, 40,  5, 34, 45, 66, 81, 36, 58, 60, 34, 30, 50, 98, 27,\n",
       "       17,  6, 16, 44, 62, 24, 76, 86, 16, 31, 50, 29, 51,  2, 68,  5, 99,\n",
       "       60, 26, 91, 67, 59, 47, 81, 95, 56, 53, 46, 78, 94, 54, 43, 94, 69,\n",
       "       47, 68, 74, 47, 44, 69, 72, 29, 49, 22, 51,  1, 77, 74,  8, 64, 70,\n",
       "       53, 77, 99, 22, 50, 84, 63, 42, 39, 83, 29, 38, 41,  1, 47, 92, 89,\n",
       "       89, 97, 94, 63, 96, 53, 28, 51, 35, 32, 46, 30, 80, 62, 26, 42, 67,\n",
       "        4, 70, 36, 41,  6, 29, 88, 30, 21, 98, 69, 97,  1, 76, 28, 30, 64,\n",
       "       60, 62,  2, 13, 91, 46, 20, 97, 46, 63, 92, 85, 57, 46,  6, 53, 88,\n",
       "       29, 24, 98, 59, 30, 93, 54, 20, 62,  8, 20,  9,  5, 81, 97, 57,  4,\n",
       "       89, 63, 88, 33, 93, 23, 72, 96, 40, 67,  7, 14, 60, 35, 77, 34, 24,\n",
       "       44, 28, 58, 73, 19, 37, 61, 26,  9, 27, 14, 45,  5, 83, 83, 72, 90,\n",
       "       57,  2, 63, 80, 32,  9, 13, 68,  4, 44, 19, 62, 50, 66, 47, 86, 96,\n",
       "       19, 71, 12, 27, 37, 37, 46, 58, 32, 31, 52, 36, 83, 87, 15, 97, 87,\n",
       "       65, 14, 46, 25, 13, 57, 71,  1, 14, 76, 47, 57, 24, 67,  7, 60, 33,\n",
       "       31, 19, 58, 41, 60, 63, 75, 87,  6, 91, 40,  7, 10, 27, 26,  7,  9,\n",
       "       66, 86, 47, 35, 58, 57, 22, 62, 11, 88, 18, 53, 40, 57, 73, 22, 45,\n",
       "       53, 43, 23, 69, 39, 87, 32, 41, 48, 91, 90, 74, 69, 92, 42, 34, 70,\n",
       "       97, 41, 12, 83, 11, 50, 26, 12, 97, 93, 43, 40, 89, 73, 43, 58, 12,\n",
       "       79,  4, 64, 88, 48, 46, 10, 92, 49, 35,  3, 70, 61, 83, 57, 55, 42,\n",
       "       37, 22, 46,  1, 42, 62, 78, 28, 92, 92, 68, 99, 74, 89, 79, 65, 99,\n",
       "       75,  5, 96, 41, 97, 35, 83, 56, 47, 35, 39, 93,  1, 14, 41,  8,  3,\n",
       "       28, 95, 56, 66, 36, 53, 81, 36, 77,  1, 84, 43, 83, 23, 15,  7, 65,\n",
       "        9, 88, 26, 89, 34, 57, 18, 46, 30,  9,  5,  1, 30, 45, 94, 72, 28,\n",
       "       54, 12, 99, 59,  5, 38, 58, 78, 66, 32, 60, 84, 19, 19, 74, 60, 51,\n",
       "       93, 32, 21, 61, 31, 16, 84, 62, 61, 35, 72, 90, 30, 97, 72,  8, 18,\n",
       "       71, 37, 11,  8, 47, 88, 49, 27, 15, 64, 71, 23,  3, 70, 53,  3, 94,\n",
       "       28, 65, 88,  9, 76, 77, 38, 16, 67, 99,  6, 20, 92,  2, 38, 29, 25,\n",
       "       92, 54, 61, 77, 20, 66, 73, 50, 59, 94, 36, 41, 75, 87,  2, 44, 91,\n",
       "       65, 34,  1, 16,  8, 94, 82, 76, 23, 55, 65, 66, 31,  4, 12, 24, 53,\n",
       "       33, 62, 84,  2, 51, 87, 61,  5, 11, 53, 98, 41, 83, 13, 25, 94, 61,\n",
       "       11, 48, 67,  9,  9, 43, 59, 66, 28, 17, 75, 56, 25, 16, 46, 94, 83,\n",
       "       49, 50,  6, 74, 45, 51, 37, 23, 15, 25, 37, 54, 27, 72, 19, 22, 92,\n",
       "       43, 51, 53, 18,  6, 75, 63, 31, 71, 97, 52, 70, 84, 80, 13, 94, 16,\n",
       "        8, 75, 83, 75,  5, 72, 54, 62, 15, 41, 76, 55, 76, 93, 34, 97, 78,\n",
       "       17, 10, 70, 28, 78, 75, 50, 20, 69, 54, 26, 31, 13,  2,  7, 82, 30,\n",
       "       61, 94, 18, 46, 71, 65, 53, 81, 36, 70, 65, 84, 98, 31, 35, 63, 41,\n",
       "       86, 63, 62,  7, 40, 76,  8, 94, 89,  9, 39, 25, 99, 12, 87, 30, 47,\n",
       "       22, 24, 61, 96, 72, 71, 54, 24, 13, 38, 62, 26, 13, 98, 16, 14,  7,\n",
       "       36, 56, 31, 50, 47, 83, 34, 95, 62, 34, 50, 72,  8, 85,  4, 82, 36,\n",
       "        7, 22, 49, 64, 73, 89, 12, 78, 17, 68, 12,  3, 63, 64, 22,  1, 97,\n",
       "       69, 71,  5, 95, 72, 38,  2, 28, 98, 65,  9, 78, 69, 76, 61, 41, 95,\n",
       "       70, 60, 95, 33, 26, 53, 87, 68, 13, 91, 61, 56, 63, 34, 37, 29, 91,\n",
       "       32, 63, 95, 84, 15, 26, 39, 16, 83, 63, 79,  6, 38, 42, 67, 95, 77,\n",
       "       55, 87, 73, 31, 20, 71, 59, 31, 99, 27, 57, 38, 49, 98, 66, 47, 60,\n",
       "        3, 76, 28, 73, 24, 39, 94, 16, 73, 19,  3, 63, 12, 45, 66, 79, 89,\n",
       "        1, 72, 64, 25, 14, 11, 89, 76, 96, 29, 65,  5, 97,  1, 66, 69, 50,\n",
       "       77, 46,  8, 51, 88, 28, 20, 88, 46,  7, 57, 20, 22, 30, 40, 44, 87,\n",
       "       94, 22, 97, 79, 45,  1, 30, 56, 12,  9, 90, 85, 75, 96, 84, 82, 50,\n",
       "       59, 45, 86, 58, 32, 71, 31, 39, 28, 30, 31, 91, 72, 64, 80, 75, 81,\n",
       "       97, 37, 99, 52, 79, 90, 32, 77, 85, 28, 24, 40, 65, 51, 67, 72,  8,\n",
       "       72, 21, 32, 84, 25, 60, 60,  6,  2, 55, 22, 11, 40, 55, 93, 24,  9,\n",
       "       76,  9, 85, 25, 29, 18, 65, 22, 40, 87, 68, 96,  9, 76, 58, 82, 76,\n",
       "       83, 31, 46, 95, 88, 11, 79, 12, 64, 47, 20, 85, 31, 96, 31, 44, 14,\n",
       "       92, 17,  9, 81, 36, 56, 68, 75, 32, 36, 44, 88, 74, 57, 91, 86, 91,\n",
       "       16, 29, 75, 50, 96, 32, 89, 67, 29, 31, 46,  5, 67, 78])"
      ]
     },
     "execution_count": 120,
     "metadata": {},
     "output_type": "execute_result"
    }
   ],
   "source": [
    "z"
   ]
  },
  {
   "cell_type": "code",
   "execution_count": 122,
   "id": "0639c70b",
   "metadata": {},
   "outputs": [
    {
     "name": "stdout",
     "output_type": "stream",
     "text": [
      "Top 10 most frequently occurring values:\n",
      "Value: 31, Count: 18\n",
      "Value: 83, Count: 16\n",
      "Value: 46, Count: 16\n",
      "Value: 30, Count: 16\n",
      "Value: 9, Count: 16\n",
      "Value: 97, Count: 16\n",
      "Value: 76, Count: 15\n",
      "Value: 72, Count: 15\n",
      "Value: 22, Count: 14\n",
      "Value: 94, Count: 14\n"
     ]
    }
   ],
   "source": [
    "counts = np.bincount(z)\n",
    "\n",
    "top_indices = np.argsort(-counts)[:10]\n",
    "\n",
    "print(\"Top 10 most frequently occurring values:\")\n",
    "for index in top_indices:\n",
    "    print(f\"Value: {index}, Count: {counts[index]}\")\n"
   ]
  },
  {
   "cell_type": "markdown",
   "id": "aec96df5",
   "metadata": {},
   "source": [
    "###### In this code, np.bincount(z) returns an array where the ith element represents the count of occurrences of the integer i in the array z"
   ]
  },
  {
   "cell_type": "markdown",
   "id": "5f2cef62",
   "metadata": {},
   "source": [
    "### numpy.bincount\n",
    "* numpy.bincount(x, /, weights=None, minlength=0)\n",
    "  Count number of occurrences of each value in array of non-negative ints.\n",
    "\n",
    "* The number of bins (of size 1) is one larger than the largest value in x. If minlength is specified, there will be at least this number of bins in the output array (though it will be longer if necessary, depending on the contents of x). Each bin gives the number of occurrences of its index value in x. If weights is specified the input array is weighted by it, i.e. if a value n is found at position i, out[n] += weight[i] instead of out[n] += 1."
   ]
  },
  {
   "cell_type": "code",
   "execution_count": null,
   "id": "0e9da710",
   "metadata": {},
   "outputs": [],
   "source": []
  }
 ],
 "metadata": {
  "kernelspec": {
   "display_name": "Python 3 (ipykernel)",
   "language": "python",
   "name": "python3"
  },
  "language_info": {
   "codemirror_mode": {
    "name": "ipython",
    "version": 3
   },
   "file_extension": ".py",
   "mimetype": "text/x-python",
   "name": "python",
   "nbconvert_exporter": "python",
   "pygments_lexer": "ipython3",
   "version": "3.11.5"
  }
 },
 "nbformat": 4,
 "nbformat_minor": 5
}
