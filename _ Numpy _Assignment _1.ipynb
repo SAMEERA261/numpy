{
 "cells": [
  {
   "cell_type": "markdown",
   "id": "faf22d6f",
   "metadata": {},
   "source": [
    "\n",
    "1) <b>Write a program to create a 5 dimensional array with all zeros and ones</b>\n"
   ]
  },
  {
   "cell_type": "code",
   "execution_count": 2,
   "id": "901d598b",
   "metadata": {},
   "outputs": [],
   "source": [
    "import numpy as np"
   ]
  },
  {
   "cell_type": "code",
   "execution_count": 60,
   "id": "2583e4d5",
   "metadata": {},
   "outputs": [],
   "source": [
    "z=np.zeros((1,4,5,3,3),dtype=int)"
   ]
  },
  {
   "cell_type": "code",
   "execution_count": 61,
   "id": "dc39dee8",
   "metadata": {},
   "outputs": [
    {
     "name": "stdout",
     "output_type": "stream",
     "text": [
      "[[[[[0 0 0]\n",
      "    [0 0 0]\n",
      "    [0 0 0]]\n",
      "\n",
      "   [[0 0 0]\n",
      "    [0 0 0]\n",
      "    [0 0 0]]\n",
      "\n",
      "   [[0 0 0]\n",
      "    [0 0 0]\n",
      "    [0 0 0]]\n",
      "\n",
      "   [[0 0 0]\n",
      "    [0 0 0]\n",
      "    [0 0 0]]\n",
      "\n",
      "   [[0 0 0]\n",
      "    [0 0 0]\n",
      "    [0 0 0]]]\n",
      "\n",
      "\n",
      "  [[[0 0 0]\n",
      "    [0 0 0]\n",
      "    [0 0 0]]\n",
      "\n",
      "   [[0 0 0]\n",
      "    [0 0 0]\n",
      "    [0 0 0]]\n",
      "\n",
      "   [[0 0 0]\n",
      "    [0 0 0]\n",
      "    [0 0 0]]\n",
      "\n",
      "   [[0 0 0]\n",
      "    [0 0 0]\n",
      "    [0 0 0]]\n",
      "\n",
      "   [[0 0 0]\n",
      "    [0 0 0]\n",
      "    [0 0 0]]]\n",
      "\n",
      "\n",
      "  [[[0 0 0]\n",
      "    [0 0 0]\n",
      "    [0 0 0]]\n",
      "\n",
      "   [[0 0 0]\n",
      "    [0 0 0]\n",
      "    [0 0 0]]\n",
      "\n",
      "   [[0 0 0]\n",
      "    [0 0 0]\n",
      "    [0 0 0]]\n",
      "\n",
      "   [[0 0 0]\n",
      "    [0 0 0]\n",
      "    [0 0 0]]\n",
      "\n",
      "   [[0 0 0]\n",
      "    [0 0 0]\n",
      "    [0 0 0]]]\n",
      "\n",
      "\n",
      "  [[[0 0 0]\n",
      "    [0 0 0]\n",
      "    [0 0 0]]\n",
      "\n",
      "   [[0 0 0]\n",
      "    [0 0 0]\n",
      "    [0 0 0]]\n",
      "\n",
      "   [[0 0 0]\n",
      "    [0 0 0]\n",
      "    [0 0 0]]\n",
      "\n",
      "   [[0 0 0]\n",
      "    [0 0 0]\n",
      "    [0 0 0]]\n",
      "\n",
      "   [[0 0 0]\n",
      "    [0 0 0]\n",
      "    [0 0 0]]]]]\n"
     ]
    }
   ],
   "source": [
    "print(z)"
   ]
  },
  {
   "cell_type": "code",
   "execution_count": 65,
   "id": "44fe1425",
   "metadata": {},
   "outputs": [],
   "source": [
    "x=np.ones((3,3,3,3,3),dtype=int)"
   ]
  },
  {
   "cell_type": "code",
   "execution_count": 66,
   "id": "91470c0f",
   "metadata": {},
   "outputs": [
    {
     "name": "stdout",
     "output_type": "stream",
     "text": [
      "[[[[[1 1 1]\n",
      "    [1 1 1]\n",
      "    [1 1 1]]\n",
      "\n",
      "   [[1 1 1]\n",
      "    [1 1 1]\n",
      "    [1 1 1]]\n",
      "\n",
      "   [[1 1 1]\n",
      "    [1 1 1]\n",
      "    [1 1 1]]]\n",
      "\n",
      "\n",
      "  [[[1 1 1]\n",
      "    [1 1 1]\n",
      "    [1 1 1]]\n",
      "\n",
      "   [[1 1 1]\n",
      "    [1 1 1]\n",
      "    [1 1 1]]\n",
      "\n",
      "   [[1 1 1]\n",
      "    [1 1 1]\n",
      "    [1 1 1]]]\n",
      "\n",
      "\n",
      "  [[[1 1 1]\n",
      "    [1 1 1]\n",
      "    [1 1 1]]\n",
      "\n",
      "   [[1 1 1]\n",
      "    [1 1 1]\n",
      "    [1 1 1]]\n",
      "\n",
      "   [[1 1 1]\n",
      "    [1 1 1]\n",
      "    [1 1 1]]]]\n",
      "\n",
      "\n",
      "\n",
      " [[[[1 1 1]\n",
      "    [1 1 1]\n",
      "    [1 1 1]]\n",
      "\n",
      "   [[1 1 1]\n",
      "    [1 1 1]\n",
      "    [1 1 1]]\n",
      "\n",
      "   [[1 1 1]\n",
      "    [1 1 1]\n",
      "    [1 1 1]]]\n",
      "\n",
      "\n",
      "  [[[1 1 1]\n",
      "    [1 1 1]\n",
      "    [1 1 1]]\n",
      "\n",
      "   [[1 1 1]\n",
      "    [1 1 1]\n",
      "    [1 1 1]]\n",
      "\n",
      "   [[1 1 1]\n",
      "    [1 1 1]\n",
      "    [1 1 1]]]\n",
      "\n",
      "\n",
      "  [[[1 1 1]\n",
      "    [1 1 1]\n",
      "    [1 1 1]]\n",
      "\n",
      "   [[1 1 1]\n",
      "    [1 1 1]\n",
      "    [1 1 1]]\n",
      "\n",
      "   [[1 1 1]\n",
      "    [1 1 1]\n",
      "    [1 1 1]]]]\n",
      "\n",
      "\n",
      "\n",
      " [[[[1 1 1]\n",
      "    [1 1 1]\n",
      "    [1 1 1]]\n",
      "\n",
      "   [[1 1 1]\n",
      "    [1 1 1]\n",
      "    [1 1 1]]\n",
      "\n",
      "   [[1 1 1]\n",
      "    [1 1 1]\n",
      "    [1 1 1]]]\n",
      "\n",
      "\n",
      "  [[[1 1 1]\n",
      "    [1 1 1]\n",
      "    [1 1 1]]\n",
      "\n",
      "   [[1 1 1]\n",
      "    [1 1 1]\n",
      "    [1 1 1]]\n",
      "\n",
      "   [[1 1 1]\n",
      "    [1 1 1]\n",
      "    [1 1 1]]]\n",
      "\n",
      "\n",
      "  [[[1 1 1]\n",
      "    [1 1 1]\n",
      "    [1 1 1]]\n",
      "\n",
      "   [[1 1 1]\n",
      "    [1 1 1]\n",
      "    [1 1 1]]\n",
      "\n",
      "   [[1 1 1]\n",
      "    [1 1 1]\n",
      "    [1 1 1]]]]]\n"
     ]
    }
   ],
   "source": [
    "print(x)"
   ]
  },
  {
   "cell_type": "markdown",
   "id": "0743471b",
   "metadata": {},
   "source": [
    "2) <b>Write a program to create an array of 10 zeros,10 ones, and 10 fives in row 1 2 and 3 which create a new array of shape (3,10)</b>"
   ]
  },
  {
   "cell_type": "code",
   "execution_count": 59,
   "id": "dd0d8d26",
   "metadata": {},
   "outputs": [
    {
     "data": {
      "text/plain": [
       "array([[0, 0, 0, 0, 0, 0, 0, 0, 0, 0],\n",
       "       [1, 1, 1, 1, 1, 1, 1, 1, 1, 1],\n",
       "       [5, 5, 5, 5, 5, 5, 5, 5, 5, 5]])"
      ]
     },
     "execution_count": 59,
     "metadata": {},
     "output_type": "execute_result"
    }
   ],
   "source": [
    "x = np.zeros((10),dtype=int)\n",
    "y = np.ones((10),dtype=int)\n",
    "z = np.full(10,5)\n",
    "\n",
    "a = np.vstack((x,y,z))\n",
    "\n",
    "a"
   ]
  },
  {
   "cell_type": "markdown",
   "id": "89f48e80",
   "metadata": {},
   "source": [
    "3) <b>Write a program to create a 3x4 matrix filled with values from 10 to 21.</b>"
   ]
  },
  {
   "cell_type": "code",
   "execution_count": 70,
   "id": "bb98cea8",
   "metadata": {},
   "outputs": [
    {
     "data": {
      "text/plain": [
       "array([[10, 11, 12, 13],\n",
       "       [14, 15, 16, 17],\n",
       "       [18, 19, 20, 21]])"
      ]
     },
     "execution_count": 70,
     "metadata": {},
     "output_type": "execute_result"
    }
   ],
   "source": [
    "c=np.array(range(10,22)).reshape(3,4)\n",
    "c"
   ]
  },
  {
   "cell_type": "markdown",
   "id": "83e3a71f",
   "metadata": {},
   "source": [
    "4. <b>Write a  program to create a 10x10 zero matrix with elements on the main diagonal equal to 0,1,2,3,4,5,6,7,8,9,</b>"
   ]
  },
  {
   "cell_type": "code",
   "execution_count": 73,
   "id": "a382a831",
   "metadata": {},
   "outputs": [
    {
     "name": "stdout",
     "output_type": "stream",
     "text": [
      "[[0 0 0 0 0 0 0 0 0 0]\n",
      " [0 1 0 0 0 0 0 0 0 0]\n",
      " [0 0 2 0 0 0 0 0 0 0]\n",
      " [0 0 0 3 0 0 0 0 0 0]\n",
      " [0 0 0 0 4 0 0 0 0 0]\n",
      " [0 0 0 0 0 5 0 0 0 0]\n",
      " [0 0 0 0 0 0 6 0 0 0]\n",
      " [0 0 0 0 0 0 0 7 0 0]\n",
      " [0 0 0 0 0 0 0 0 8 0]\n",
      " [0 0 0 0 0 0 0 0 0 9]]\n"
     ]
    }
   ],
   "source": [
    "a = np.arange(10)\n",
    "b = np.zeros((10,10), dtype=int)\n",
    "\n",
    "np.fill_diagonal(b,a)\n",
    "\n",
    "print(b)"
   ]
  },
  {
   "cell_type": "code",
   "execution_count": 74,
   "id": "0f8b1643",
   "metadata": {},
   "outputs": [
    {
     "name": "stdout",
     "output_type": "stream",
     "text": [
      "[[0 0 0 0 0 0 0 0 0 0]\n",
      " [0 1 0 0 0 0 0 0 0 0]\n",
      " [0 0 2 0 0 0 0 0 0 0]\n",
      " [0 0 0 3 0 0 0 0 0 0]\n",
      " [0 0 0 0 4 0 0 0 0 0]\n",
      " [0 0 0 0 0 5 0 0 0 0]\n",
      " [0 0 0 0 0 0 6 0 0 0]\n",
      " [0 0 0 0 0 0 0 7 0 0]\n",
      " [0 0 0 0 0 0 0 0 8 0]\n",
      " [0 0 0 0 0 0 0 0 0 9]]\n"
     ]
    }
   ],
   "source": [
    "np.zeros((10,10))\n",
    "a = np.diag(np.arange(10))\n",
    "\n",
    "print(a)"
   ]
  },
  {
   "attachments": {
    "p.JPG": {
     "image/jpeg": "[encoded data removed]"
    }
   },
   "cell_type": "markdown",
   "id": "62bdf033",
   "metadata": {},
   "source": [
    "5)<b>Write a program to create a 4x4 array. Create an array from below array by swapping first and last, second and third columns.\n",
    "    ![p.JPG](attachment:p.JPG)\n",
    "\n",
    "</b>\n"
   ]
  },
  {
   "cell_type": "code",
   "execution_count": 75,
   "id": "6344f4d8",
   "metadata": {},
   "outputs": [],
   "source": [
    "s = np.arange(1,17).reshape(4,4)"
   ]
  },
  {
   "cell_type": "code",
   "execution_count": 76,
   "id": "b266fdbc",
   "metadata": {},
   "outputs": [
    {
     "data": {
      "text/plain": [
       "array([[ 1,  2,  3,  4],\n",
       "       [ 5,  6,  7,  8],\n",
       "       [ 9, 10, 11, 12],\n",
       "       [13, 14, 15, 16]])"
      ]
     },
     "execution_count": 76,
     "metadata": {},
     "output_type": "execute_result"
    }
   ],
   "source": [
    "s"
   ]
  },
  {
   "cell_type": "code",
   "execution_count": 77,
   "id": "f6f2b60b",
   "metadata": {},
   "outputs": [],
   "source": [
    "s[:,(0,-1)] = s[:,(-1,0)]"
   ]
  },
  {
   "cell_type": "code",
   "execution_count": null,
   "id": "b9a761a7",
   "metadata": {},
   "outputs": [],
   "source": [
    "s[:,(1,2)] = s[:,(2,1)]"
   ]
  },
  {
   "cell_type": "code",
   "execution_count": 78,
   "id": "c506141f",
   "metadata": {},
   "outputs": [
    {
     "data": {
      "text/plain": [
       "array([[ 4,  2,  3,  1],\n",
       "       [ 8,  6,  7,  5],\n",
       "       [12, 10, 11,  9],\n",
       "       [16, 14, 15, 13]])"
      ]
     },
     "execution_count": 78,
     "metadata": {},
     "output_type": "execute_result"
    }
   ],
   "source": [
    "s"
   ]
  },
  {
   "cell_type": "markdown",
   "id": "0f74c943",
   "metadata": {},
   "source": [
    "6)<b> Write a program to reverse an array (the first element becomes the last).\n",
    "   Given array:\n",
    "   [12 13 14 15 16 17 18 19 20 21 22 23 24 25 26 27 ]</b>\n"
   ]
  },
  {
   "cell_type": "code",
   "execution_count": 80,
   "id": "7aae3c13",
   "metadata": {},
   "outputs": [
    {
     "data": {
      "text/plain": [
       "array([12, 13, 14, 15, 16, 17, 18, 19, 20, 21, 22, 23, 24, 25, 26, 27])"
      ]
     },
     "execution_count": 80,
     "metadata": {},
     "output_type": "execute_result"
    }
   ],
   "source": [
    "ss=np.arange(12,28)\n",
    "ss"
   ]
  },
  {
   "cell_type": "code",
   "execution_count": 82,
   "id": "5ef0458e",
   "metadata": {},
   "outputs": [
    {
     "data": {
      "text/plain": [
       "array([27, 26, 25, 24, 23, 22, 21, 20, 19, 18, 17, 16, 15, 14, 13, 12])"
      ]
     },
     "execution_count": 82,
     "metadata": {},
     "output_type": "execute_result"
    }
   ],
   "source": [
    "ss[::-1]"
   ]
  },
  {
   "cell_type": "markdown",
   "id": "35dd3dd9",
   "metadata": {},
   "source": [
    "\n",
    "7) Write a program to access all the elements greater than 30 and less than 80 and multiples of 5 from an array of shape 10,10 .Elements range from 1 to 100\n",
    "\n"
   ]
  },
  {
   "cell_type": "code",
   "execution_count": 83,
   "id": "aaa66788",
   "metadata": {},
   "outputs": [],
   "source": [
    "prg = np.arange(1,101).reshape(10,10)"
   ]
  },
  {
   "cell_type": "code",
   "execution_count": 84,
   "id": "bad7de31",
   "metadata": {},
   "outputs": [
    {
     "data": {
      "text/plain": [
       "array([[  1,   2,   3,   4,   5,   6,   7,   8,   9,  10],\n",
       "       [ 11,  12,  13,  14,  15,  16,  17,  18,  19,  20],\n",
       "       [ 21,  22,  23,  24,  25,  26,  27,  28,  29,  30],\n",
       "       [ 31,  32,  33,  34,  35,  36,  37,  38,  39,  40],\n",
       "       [ 41,  42,  43,  44,  45,  46,  47,  48,  49,  50],\n",
       "       [ 51,  52,  53,  54,  55,  56,  57,  58,  59,  60],\n",
       "       [ 61,  62,  63,  64,  65,  66,  67,  68,  69,  70],\n",
       "       [ 71,  72,  73,  74,  75,  76,  77,  78,  79,  80],\n",
       "       [ 81,  82,  83,  84,  85,  86,  87,  88,  89,  90],\n",
       "       [ 91,  92,  93,  94,  95,  96,  97,  98,  99, 100]])"
      ]
     },
     "execution_count": 84,
     "metadata": {},
     "output_type": "execute_result"
    }
   ],
   "source": [
    "prg"
   ]
  },
  {
   "cell_type": "markdown",
   "id": "957d95b6",
   "metadata": {},
   "source": [
    "#### np.where = helps you find the indices where a certain condition is true in an array\n",
    "* indices = np.where(condition)\n",
    "* where,\n",
    "  condition is a boolean condition applied to an array.\n",
    "  np.where returns the indices where the condition is true\n"
   ]
  },
  {
   "cell_type": "code",
   "execution_count": 87,
   "id": "098f3a5b",
   "metadata": {},
   "outputs": [],
   "source": [
    "#greater that 30 and less than 80 and multiples of 5\n",
    "mul= prg[np.where((prg > 30) & (prg < 80) & (prg % 5 == 0))]"
   ]
  },
  {
   "cell_type": "code",
   "execution_count": 88,
   "id": "935daa0f",
   "metadata": {},
   "outputs": [
    {
     "data": {
      "text/plain": [
       "array([35, 40, 45, 50, 55, 60, 65, 70, 75])"
      ]
     },
     "execution_count": 88,
     "metadata": {},
     "output_type": "execute_result"
    }
   ],
   "source": [
    "mul"
   ]
  },
  {
   "cell_type": "markdown",
   "id": "b4041272",
   "metadata": {},
   "source": [
    "8)<b> Write a program to create a 2D array with 1 on the border and 0 inside.</b>"
   ]
  },
  {
   "cell_type": "code",
   "execution_count": 107,
   "id": "41788103",
   "metadata": {},
   "outputs": [],
   "source": [
    "o=np.ones((10,10),dtype=int)"
   ]
  },
  {
   "cell_type": "code",
   "execution_count": 108,
   "id": "7c2f9103",
   "metadata": {},
   "outputs": [
    {
     "data": {
      "text/plain": [
       "array([[1, 1, 1, 1, 1, 1, 1, 1, 1, 1],\n",
       "       [1, 1, 1, 1, 1, 1, 1, 1, 1, 1],\n",
       "       [1, 1, 1, 1, 1, 1, 1, 1, 1, 1],\n",
       "       [1, 1, 1, 1, 1, 1, 1, 1, 1, 1],\n",
       "       [1, 1, 1, 1, 1, 1, 1, 1, 1, 1],\n",
       "       [1, 1, 1, 1, 1, 1, 1, 1, 1, 1],\n",
       "       [1, 1, 1, 1, 1, 1, 1, 1, 1, 1],\n",
       "       [1, 1, 1, 1, 1, 1, 1, 1, 1, 1],\n",
       "       [1, 1, 1, 1, 1, 1, 1, 1, 1, 1],\n",
       "       [1, 1, 1, 1, 1, 1, 1, 1, 1, 1]])"
      ]
     },
     "execution_count": 108,
     "metadata": {},
     "output_type": "execute_result"
    }
   ],
   "source": [
    "o"
   ]
  },
  {
   "cell_type": "code",
   "execution_count": 109,
   "id": "4a9cd7da",
   "metadata": {},
   "outputs": [],
   "source": [
    "o[1:-1, 1:-1] = 0"
   ]
  },
  {
   "cell_type": "code",
   "execution_count": 110,
   "id": "ff146469",
   "metadata": {},
   "outputs": [
    {
     "data": {
      "text/plain": [
       "array([[1, 1, 1, 1, 1, 1, 1, 1, 1, 1],\n",
       "       [1, 0, 0, 0, 0, 0, 0, 0, 0, 1],\n",
       "       [1, 0, 0, 0, 0, 0, 0, 0, 0, 1],\n",
       "       [1, 0, 0, 0, 0, 0, 0, 0, 0, 1],\n",
       "       [1, 0, 0, 0, 0, 0, 0, 0, 0, 1],\n",
       "       [1, 0, 0, 0, 0, 0, 0, 0, 0, 1],\n",
       "       [1, 0, 0, 0, 0, 0, 0, 0, 0, 1],\n",
       "       [1, 0, 0, 0, 0, 0, 0, 0, 0, 1],\n",
       "       [1, 0, 0, 0, 0, 0, 0, 0, 0, 1],\n",
       "       [1, 1, 1, 1, 1, 1, 1, 1, 1, 1]])"
      ]
     },
     "execution_count": 110,
     "metadata": {},
     "output_type": "execute_result"
    }
   ],
   "source": [
    "o"
   ]
  },
  {
   "cell_type": "markdown",
   "id": "47bf0650",
   "metadata": {},
   "source": [
    "9) Write a program to create a checkerboard pattern .Don't use default array function Checkerboard pattern:                                                   \n",
    "[[0 1 0 1 0 1 0 1]                                                      \n",
    " [1 0 1 0 1 0 1 0]                                                      \n",
    " [0 1 0 1 0 1 0 1]                                                      \n",
    " [1 0 1 0 1 0 1 0]                                                      \n",
    " [0 1 0 1 0 1 0 1]                                                      \n",
    " [1 0 1 0 1 0 1 0]                                                      \n",
    " [0 1 0 1 0 1 0 1]                                                      \n",
    " [1 0 1 0 1 0 1 0]]\n"
   ]
  },
  {
   "cell_type": "code",
   "execution_count": 113,
   "id": "34859f16",
   "metadata": {},
   "outputs": [],
   "source": [
    "h=np.zeros((10,10),dtype=int)"
   ]
  },
  {
   "cell_type": "code",
   "execution_count": 114,
   "id": "40523d3d",
   "metadata": {},
   "outputs": [
    {
     "data": {
      "text/plain": [
       "array([[0, 0, 0, 0, 0, 0, 0, 0, 0, 0],\n",
       "       [0, 0, 0, 0, 0, 0, 0, 0, 0, 0],\n",
       "       [0, 0, 0, 0, 0, 0, 0, 0, 0, 0],\n",
       "       [0, 0, 0, 0, 0, 0, 0, 0, 0, 0],\n",
       "       [0, 0, 0, 0, 0, 0, 0, 0, 0, 0],\n",
       "       [0, 0, 0, 0, 0, 0, 0, 0, 0, 0],\n",
       "       [0, 0, 0, 0, 0, 0, 0, 0, 0, 0],\n",
       "       [0, 0, 0, 0, 0, 0, 0, 0, 0, 0],\n",
       "       [0, 0, 0, 0, 0, 0, 0, 0, 0, 0],\n",
       "       [0, 0, 0, 0, 0, 0, 0, 0, 0, 0]])"
      ]
     },
     "execution_count": 114,
     "metadata": {},
     "output_type": "execute_result"
    }
   ],
   "source": [
    "h"
   ]
  },
  {
   "cell_type": "code",
   "execution_count": 119,
   "id": "3ef99742",
   "metadata": {},
   "outputs": [],
   "source": [
    "h[1::2, ::2] = 1 "
   ]
  },
  {
   "cell_type": "code",
   "execution_count": 120,
   "id": "ac9b9da6",
   "metadata": {},
   "outputs": [
    {
     "data": {
      "text/plain": [
       "array([[0, 1, 0, 1, 0, 1, 0, 1, 0, 1],\n",
       "       [1, 0, 1, 0, 1, 0, 1, 0, 1, 0],\n",
       "       [0, 1, 0, 1, 0, 1, 0, 1, 0, 1],\n",
       "       [1, 0, 1, 0, 1, 0, 1, 0, 1, 0],\n",
       "       [0, 1, 0, 1, 0, 1, 0, 1, 0, 1],\n",
       "       [1, 0, 1, 0, 1, 0, 1, 0, 1, 0],\n",
       "       [0, 1, 0, 1, 0, 1, 0, 1, 0, 1],\n",
       "       [1, 0, 1, 0, 1, 0, 1, 0, 1, 0],\n",
       "       [0, 1, 0, 1, 0, 1, 0, 1, 0, 1],\n",
       "       [1, 0, 1, 0, 1, 0, 1, 0, 1, 0]])"
      ]
     },
     "execution_count": 120,
     "metadata": {},
     "output_type": "execute_result"
    }
   ],
   "source": [
    "h"
   ]
  },
  {
   "cell_type": "code",
   "execution_count": 121,
   "id": "25930c55",
   "metadata": {},
   "outputs": [],
   "source": [
    "h[::2, 1::2] = 1 "
   ]
  },
  {
   "cell_type": "code",
   "execution_count": 122,
   "id": "d780295e",
   "metadata": {},
   "outputs": [
    {
     "data": {
      "text/plain": [
       "array([[0, 1, 0, 1, 0, 1, 0, 1, 0, 1],\n",
       "       [1, 0, 1, 0, 1, 0, 1, 0, 1, 0],\n",
       "       [0, 1, 0, 1, 0, 1, 0, 1, 0, 1],\n",
       "       [1, 0, 1, 0, 1, 0, 1, 0, 1, 0],\n",
       "       [0, 1, 0, 1, 0, 1, 0, 1, 0, 1],\n",
       "       [1, 0, 1, 0, 1, 0, 1, 0, 1, 0],\n",
       "       [0, 1, 0, 1, 0, 1, 0, 1, 0, 1],\n",
       "       [1, 0, 1, 0, 1, 0, 1, 0, 1, 0],\n",
       "       [0, 1, 0, 1, 0, 1, 0, 1, 0, 1],\n",
       "       [1, 0, 1, 0, 1, 0, 1, 0, 1, 0]])"
      ]
     },
     "execution_count": 122,
     "metadata": {},
     "output_type": "execute_result"
    }
   ],
   "source": [
    "h"
   ]
  },
  {
   "cell_type": "code",
   "execution_count": 128,
   "id": "773d55f3",
   "metadata": {},
   "outputs": [
    {
     "data": {
      "text/plain": [
       "array([[1, 1, 1, 1, 1, 1, 1, 1, 1, 1],\n",
       "       [1, 1, 1, 1, 1, 1, 1, 1, 1, 1],\n",
       "       [1, 1, 1, 1, 1, 1, 1, 1, 1, 1],\n",
       "       [1, 1, 1, 1, 1, 1, 1, 1, 1, 1],\n",
       "       [1, 1, 1, 1, 1, 1, 1, 1, 1, 1],\n",
       "       [1, 1, 1, 1, 1, 1, 1, 1, 1, 1],\n",
       "       [1, 1, 1, 1, 1, 1, 1, 1, 1, 1],\n",
       "       [1, 1, 1, 1, 1, 1, 1, 1, 1, 1],\n",
       "       [1, 1, 1, 1, 1, 1, 1, 1, 1, 1],\n",
       "       [1, 1, 1, 1, 1, 1, 1, 1, 1, 1]])"
      ]
     },
     "execution_count": 128,
     "metadata": {},
     "output_type": "execute_result"
    }
   ],
   "source": [
    "x,y = 10,10\n",
    "s= np.ones((x,y), dtype = int)\n",
    "s"
   ]
  },
  {
   "cell_type": "markdown",
   "id": "1252519a",
   "metadata": {},
   "source": [
    "10) Write a program to find common values between two arrays.\n",
    "Expected Output:\n",
    "array1: [10 20 40 60]\n",
    "array2: [10, 30, 40,50]\n"
   ]
  },
  {
   "cell_type": "code",
   "execution_count": 135,
   "id": "967e6ce1",
   "metadata": {},
   "outputs": [
    {
     "name": "stdout",
     "output_type": "stream",
     "text": [
      "Intersection : {40, 10}\n"
     ]
    }
   ],
   "source": [
    "#set\n",
    "A ={10,20,40,60}\n",
    "B ={10,30,40,50}\n",
    "value = print(\"Intersection :\", A & B)"
   ]
  },
  {
   "cell_type": "code",
   "execution_count": 136,
   "id": "9c3dec6c",
   "metadata": {},
   "outputs": [],
   "source": [
    "array1 = [10,20,40,60]\n",
    "array2= [10,30,40,50]\n",
    "value = set(array1) & set(array2)"
   ]
  },
  {
   "cell_type": "code",
   "execution_count": 137,
   "id": "eb2724f1",
   "metadata": {},
   "outputs": [
    {
     "data": {
      "text/plain": [
       "{10, 40}"
      ]
     },
     "execution_count": 137,
     "metadata": {},
     "output_type": "execute_result"
    }
   ],
   "source": [
    "value"
   ]
  },
  {
   "cell_type": "markdown",
   "id": "fb8107da",
   "metadata": {},
   "source": [
    "11) Write a program to create an array 2d array and then reshape into 1d array\n"
   ]
  },
  {
   "cell_type": "code",
   "execution_count": 140,
   "id": "5a79a3a7",
   "metadata": {},
   "outputs": [
    {
     "name": "stdout",
     "output_type": "stream",
     "text": [
      "2D array is : \n",
      " [[ 1  2  3  4]\n",
      " [ 5  6  7  8]\n",
      " [ 9 10 11 12]]\n",
      "\n",
      "\n",
      "1D array is :\n",
      " [ 1  2  3  4  5  6  7  8  9 10 11 12]\n"
     ]
    }
   ],
   "source": [
    "a = np.arange(1,13).reshape(3,4)\n",
    "\n",
    "b = a.reshape(-1)\n",
    "\n",
    "print(\"2D array is : \\n\", a)\n",
    "print(\"\\n\")\n",
    "print(\"1D array is :\\n\",b)"
   ]
  },
  {
   "cell_type": "code",
   "execution_count": null,
   "id": "3b577a66",
   "metadata": {},
   "outputs": [],
   "source": [
    "\n"
   ]
  },
  {
   "cell_type": "code",
   "execution_count": null,
   "id": "506afc09",
   "metadata": {},
   "outputs": [],
   "source": []
  }
 ],
 "metadata": {
  "kernelspec": {
   "display_name": "Python 3 (ipykernel)",
   "language": "python",
   "name": "python3"
  },
  "language_info": {
   "codemirror_mode": {
    "name": "ipython",
    "version": 3
   },
   "file_extension": ".py",
   "mimetype": "text/x-python",
   "name": "python",
   "nbconvert_exporter": "python",
   "pygments_lexer": "ipython3",
   "version": "3.11.5"
  }
 },
 "nbformat": 4,
 "nbformat_minor": 5
}
